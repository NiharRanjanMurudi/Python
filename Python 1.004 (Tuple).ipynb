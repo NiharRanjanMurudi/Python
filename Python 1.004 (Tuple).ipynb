{
 "cells": [
  {
   "cell_type": "code",
   "execution_count": 1,
   "id": "c29128a4",
   "metadata": {},
   "outputs": [],
   "source": [
    "tup1=(1,False,3.88,5+6j) #TUPLE IS UNMUTABLE"
   ]
  },
  {
   "cell_type": "code",
   "execution_count": 2,
   "id": "f8c9ca82",
   "metadata": {},
   "outputs": [
    {
     "data": {
      "text/plain": [
       "(1, False, 3.88, (5+6j))"
      ]
     },
     "execution_count": 2,
     "metadata": {},
     "output_type": "execute_result"
    }
   ],
   "source": [
    "tup1"
   ]
  },
  {
   "cell_type": "code",
   "execution_count": 3,
   "id": "7174c0a0",
   "metadata": {},
   "outputs": [
    {
     "data": {
      "text/plain": [
       "tuple"
      ]
     },
     "execution_count": 3,
     "metadata": {},
     "output_type": "execute_result"
    }
   ],
   "source": [
    "type(tup1)"
   ]
  },
  {
   "cell_type": "code",
   "execution_count": 4,
   "id": "c7c0da55",
   "metadata": {},
   "outputs": [],
   "source": [
    "tup2=(2,False,\"a\",True,\"b\")"
   ]
  },
  {
   "cell_type": "code",
   "execution_count": 5,
   "id": "2191ac71",
   "metadata": {},
   "outputs": [
    {
     "data": {
      "text/plain": [
       "2"
      ]
     },
     "execution_count": 5,
     "metadata": {},
     "output_type": "execute_result"
    }
   ],
   "source": [
    "tup2[0]"
   ]
  },
  {
   "cell_type": "code",
   "execution_count": 6,
   "id": "b855f502",
   "metadata": {},
   "outputs": [],
   "source": [
    "tup2=(2,False,\"a\",True,\"b\")"
   ]
  },
  {
   "cell_type": "code",
   "execution_count": 7,
   "id": "5b395847",
   "metadata": {},
   "outputs": [
    {
     "data": {
      "text/plain": [
       "'b'"
      ]
     },
     "execution_count": 7,
     "metadata": {},
     "output_type": "execute_result"
    }
   ],
   "source": [
    "tup2[-1]"
   ]
  },
  {
   "cell_type": "code",
   "execution_count": 8,
   "id": "51f28293",
   "metadata": {},
   "outputs": [],
   "source": [
    "tup2=(2,False,\"a\",True,\"b\")"
   ]
  },
  {
   "cell_type": "code",
   "execution_count": 9,
   "id": "1c842823",
   "metadata": {},
   "outputs": [
    {
     "data": {
      "text/plain": [
       "(False, 'a', True)"
      ]
     },
     "execution_count": 9,
     "metadata": {},
     "output_type": "execute_result"
    }
   ],
   "source": [
    "tup2[1:4]"
   ]
  },
  {
   "cell_type": "code",
   "execution_count": 10,
   "id": "a87e44e0",
   "metadata": {},
   "outputs": [
    {
     "data": {
      "text/plain": [
       "5"
      ]
     },
     "execution_count": 10,
     "metadata": {},
     "output_type": "execute_result"
    }
   ],
   "source": [
    "len(tup2) #Finding Length of Tuple"
   ]
  },
  {
   "cell_type": "code",
   "execution_count": 11,
   "id": "d4571824",
   "metadata": {},
   "outputs": [],
   "source": [
    "tup3=(1,2,3)"
   ]
  },
  {
   "cell_type": "code",
   "execution_count": 12,
   "id": "542ff446",
   "metadata": {},
   "outputs": [],
   "source": [
    "tup4=(4,5,6)"
   ]
  },
  {
   "cell_type": "code",
   "execution_count": 13,
   "id": "8b3e3edf",
   "metadata": {},
   "outputs": [
    {
     "data": {
      "text/plain": [
       "(1, 2, 3, 4, 5, 6)"
      ]
     },
     "execution_count": 13,
     "metadata": {},
     "output_type": "execute_result"
    }
   ],
   "source": [
    "tup3+tup4 #Concatenating Tuples"
   ]
  },
  {
   "cell_type": "code",
   "execution_count": 14,
   "id": "7cefec39",
   "metadata": {},
   "outputs": [
    {
     "data": {
      "text/plain": [
       "('Nihar', 300, 'Nihar', 300, 'Nihar', 300)"
      ]
     },
     "execution_count": 14,
     "metadata": {},
     "output_type": "execute_result"
    }
   ],
   "source": [
    "tup5=('Nihar',300) #Repeating Tuple Elements\n",
    "tup5*3"
   ]
  },
  {
   "cell_type": "code",
   "execution_count": 15,
   "id": "4a215c4a",
   "metadata": {},
   "outputs": [
    {
     "data": {
      "text/plain": [
       "('Nihar', 300, 'Nihar', 300, 4, 5, 6, 4, 5, 6, 4, 5, 6)"
      ]
     },
     "execution_count": 15,
     "metadata": {},
     "output_type": "execute_result"
    }
   ],
   "source": [
    "tup5*2+tup4*3 #Repeating and Concatenating"
   ]
  },
  {
   "cell_type": "code",
   "execution_count": 16,
   "id": "c842b997",
   "metadata": {},
   "outputs": [
    {
     "data": {
      "text/plain": [
       "1"
      ]
     },
     "execution_count": 16,
     "metadata": {},
     "output_type": "execute_result"
    }
   ],
   "source": [
    "tup6=(1,2,3,4,5,6,7) #Minimum Value\n",
    "min(tup6)"
   ]
  },
  {
   "cell_type": "code",
   "execution_count": 17,
   "id": "67b7388e",
   "metadata": {},
   "outputs": [
    {
     "data": {
      "text/plain": [
       "7"
      ]
     },
     "execution_count": 17,
     "metadata": {},
     "output_type": "execute_result"
    }
   ],
   "source": [
    "tup6=(1,2,3,4,5,6,7) #Maximum Value\n",
    "max(tup6)"
   ]
  }
 ],
 "metadata": {
  "kernelspec": {
   "display_name": "Python 3 (ipykernel)",
   "language": "python",
   "name": "python3"
  },
  "language_info": {
   "codemirror_mode": {
    "name": "ipython",
    "version": 3
   },
   "file_extension": ".py",
   "mimetype": "text/x-python",
   "name": "python",
   "nbconvert_exporter": "python",
   "pygments_lexer": "ipython3",
   "version": "3.9.13"
  }
 },
 "nbformat": 4,
 "nbformat_minor": 5
}
