{
 "cells": [
  {
   "cell_type": "code",
   "execution_count": 1,
   "id": "45357fb5",
   "metadata": {},
   "outputs": [],
   "source": [
    "l1=['mango','apple','grapes','orange']"
   ]
  },
  {
   "cell_type": "code",
   "execution_count": 2,
   "id": "8a20bc28",
   "metadata": {},
   "outputs": [
    {
     "name": "stdout",
     "output_type": "stream",
     "text": [
      "mango\n",
      "apple\n",
      "grapes\n",
      "orange\n"
     ]
    }
   ],
   "source": [
    "for i in l1:\n",
    "    print(i)"
   ]
  },
  {
   "cell_type": "code",
   "execution_count": 3,
   "id": "1f3e66a3",
   "metadata": {},
   "outputs": [],
   "source": [
    "l1=['Orange','Black','White']\n",
    "l2=['Chair','Book','Laptop']"
   ]
  },
  {
   "cell_type": "code",
   "execution_count": 4,
   "id": "c1679e01",
   "metadata": {},
   "outputs": [
    {
     "name": "stdout",
     "output_type": "stream",
     "text": [
      "Orange Chair\n",
      "Orange Book\n",
      "Orange Laptop\n",
      "Black Chair\n",
      "Black Book\n",
      "Black Laptop\n",
      "White Chair\n",
      "White Book\n",
      "White Laptop\n"
     ]
    }
   ],
   "source": [
    "for i in l1:\n",
    "    for j in l2:\n",
    "        print(i,j)"
   ]
  }
 ],
 "metadata": {
  "kernelspec": {
   "display_name": "Python 3 (ipykernel)",
   "language": "python",
   "name": "python3"
  },
  "language_info": {
   "codemirror_mode": {
    "name": "ipython",
    "version": 3
   },
   "file_extension": ".py",
   "mimetype": "text/x-python",
   "name": "python",
   "nbconvert_exporter": "python",
   "pygments_lexer": "ipython3",
   "version": "3.9.13"
  }
 },
 "nbformat": 4,
 "nbformat_minor": 5
}
