{
 "cells": [
  {
   "cell_type": "code",
   "execution_count": 1,
   "id": "a104a2ca",
   "metadata": {},
   "outputs": [],
   "source": [
    "class Employee:\n",
    "    def __init__ (self,name,age,salary,gender):\n",
    "        self.name=name\n",
    "        self.age=age\n",
    "        self.salary=salary\n",
    "        self.gender=gender\n",
    "    def show_Employee_details(self):\n",
    "        print(\"Name of employee is \",self.name)\n",
    "        print(\"Age of employee is \",self.age)\n",
    "        print(\"Salary of employee is \",self.salary)\n",
    "        print(\"Gender of employee is \",self.gender)"
   ]
  },
  {
   "cell_type": "code",
   "execution_count": 2,
   "id": "bc50fd93",
   "metadata": {},
   "outputs": [],
   "source": [
    "e1=Employee('Ram',32,50000,'Male')"
   ]
  },
  {
   "cell_type": "code",
   "execution_count": 3,
   "id": "d5908646",
   "metadata": {},
   "outputs": [
    {
     "name": "stdout",
     "output_type": "stream",
     "text": [
      "Name of employee is  Ram\n",
      "Age of employee is  32\n",
      "Salary of employee is  50000\n",
      "Gender of employee is  Male\n"
     ]
    }
   ],
   "source": [
    "e1.show_Employee_details()"
   ]
  },
  {
   "cell_type": "code",
   "execution_count": 4,
   "id": "cbc31ad0",
   "metadata": {},
   "outputs": [],
   "source": [
    "e2=Employee('Nihar',30,1000000,'Male')"
   ]
  },
  {
   "cell_type": "code",
   "execution_count": 5,
   "id": "0e1d1d33",
   "metadata": {},
   "outputs": [
    {
     "name": "stdout",
     "output_type": "stream",
     "text": [
      "Name of employee is  Nihar\n",
      "Age of employee is  30\n",
      "Salary of employee is  1000000\n",
      "Gender of employee is  Male\n"
     ]
    }
   ],
   "source": [
    "e2.show_Employee_details()"
   ]
  }
 ],
 "metadata": {
  "kernelspec": {
   "display_name": "Python 3 (ipykernel)",
   "language": "python",
   "name": "python3"
  },
  "language_info": {
   "codemirror_mode": {
    "name": "ipython",
    "version": 3
   },
   "file_extension": ".py",
   "mimetype": "text/x-python",
   "name": "python",
   "nbconvert_exporter": "python",
   "pygments_lexer": "ipython3",
   "version": "3.9.13"
  }
 },
 "nbformat": 4,
 "nbformat_minor": 5
}
