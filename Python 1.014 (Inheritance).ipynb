{
 "cells": [
  {
   "cell_type": "code",
   "execution_count": 1,
   "id": "23eb666c",
   "metadata": {},
   "outputs": [],
   "source": [
    "class vehicle:\n",
    "    def __init__(self,mileage,cost):\n",
    "        self.mileage=mileage\n",
    "        self.cost=cost\n",
    "    def show_vehicle_details(self):\n",
    "        print(\"Mileage of Vechile is \",self.mileage)\n",
    "        print(\"Cost of Vechile is \",self.cost)\n",
    "        print(\"I am a Vechile\")"
   ]
  },
  {
   "cell_type": "code",
   "execution_count": 2,
   "id": "3832715f",
   "metadata": {},
   "outputs": [],
   "source": [
    "v1=vehicle(300,500)"
   ]
  },
  {
   "cell_type": "code",
   "execution_count": 3,
   "id": "c97aae06",
   "metadata": {},
   "outputs": [
    {
     "name": "stdout",
     "output_type": "stream",
     "text": [
      "Mileage of Vechile is  300\n",
      "Cost of Vechile is  500\n",
      "I am a Vechile\n"
     ]
    }
   ],
   "source": [
    "v1.show_vehicle_details()"
   ]
  },
  {
   "cell_type": "code",
   "execution_count": 4,
   "id": "58d01531",
   "metadata": {},
   "outputs": [],
   "source": [
    "class car(vehicle):\n",
    "    def show_car_details(self):\n",
    "        print(\"I am a car\")"
   ]
  },
  {
   "cell_type": "code",
   "execution_count": 5,
   "id": "9d247851",
   "metadata": {},
   "outputs": [],
   "source": [
    "c1=car(250,800)"
   ]
  },
  {
   "cell_type": "code",
   "execution_count": 6,
   "id": "c70e3899",
   "metadata": {},
   "outputs": [
    {
     "name": "stdout",
     "output_type": "stream",
     "text": [
      "Mileage of Vechile is  250\n",
      "Cost of Vechile is  800\n",
      "I am a Vechile\n"
     ]
    }
   ],
   "source": [
    "c1.show_vehicle_details()"
   ]
  },
  {
   "cell_type": "code",
   "execution_count": 7,
   "id": "61c4b12a",
   "metadata": {},
   "outputs": [
    {
     "name": "stdout",
     "output_type": "stream",
     "text": [
      "I am a car\n"
     ]
    }
   ],
   "source": [
    "c1.show_car_details()"
   ]
  },
  {
   "cell_type": "code",
   "execution_count": 8,
   "id": "a55c837e",
   "metadata": {},
   "outputs": [],
   "source": [
    "class car(vehicle):\n",
    "    def __init__(self,mileage,cost,tyres,hp):\n",
    "        super().__init__(mileage,cost)\n",
    "        self.tyres=tyres\n",
    "        self.hp=hp\n",
    "    def show_car_details(self):\n",
    "        print(\"Number of tyres in car: \",self.tyres)\n",
    "        print(\"House power of car is \",self.hp)\n",
    "        print(\"I am a car\")"
   ]
  },
  {
   "cell_type": "code",
   "execution_count": 9,
   "id": "55d1a798",
   "metadata": {},
   "outputs": [],
   "source": [
    "c1=car(600,100000,8,999)"
   ]
  },
  {
   "cell_type": "code",
   "execution_count": 10,
   "id": "cf0a51cc",
   "metadata": {},
   "outputs": [
    {
     "name": "stdout",
     "output_type": "stream",
     "text": [
      "Number of tyres in car:  8\n",
      "House power of car is  999\n",
      "I am a car\n"
     ]
    }
   ],
   "source": [
    "c1.show_car_details()"
   ]
  },
  {
   "cell_type": "code",
   "execution_count": 11,
   "id": "5d3a0c8a",
   "metadata": {},
   "outputs": [
    {
     "name": "stdout",
     "output_type": "stream",
     "text": [
      "Mileage of Vechile is  600\n",
      "Cost of Vechile is  100000\n",
      "I am a Vechile\n"
     ]
    }
   ],
   "source": [
    "c1.show_vehicle_details()"
   ]
  }
 ],
 "metadata": {
  "kernelspec": {
   "display_name": "Python 3 (ipykernel)",
   "language": "python",
   "name": "python3"
  },
  "language_info": {
   "codemirror_mode": {
    "name": "ipython",
    "version": 3
   },
   "file_extension": ".py",
   "mimetype": "text/x-python",
   "name": "python",
   "nbconvert_exporter": "python",
   "pygments_lexer": "ipython3",
   "version": "3.9.13"
  }
 },
 "nbformat": 4,
 "nbformat_minor": 5
}
