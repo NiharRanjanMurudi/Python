{
 "cells": [
  {
   "cell_type": "code",
   "execution_count": 1,
   "id": "8e081803",
   "metadata": {},
   "outputs": [],
   "source": [
    "class Phone:\n",
    "    def make_Call(self):\n",
    "        print(\"I am making a call\")\n",
    "    def play_game(self):\n",
    "        print(\"I am playing a game\")"
   ]
  },
  {
   "cell_type": "code",
   "execution_count": 2,
   "id": "227f0127",
   "metadata": {},
   "outputs": [],
   "source": [
    "p1=Phone()"
   ]
  },
  {
   "cell_type": "code",
   "execution_count": 3,
   "id": "48d486a3",
   "metadata": {},
   "outputs": [
    {
     "name": "stdout",
     "output_type": "stream",
     "text": [
      "I am making a call\n"
     ]
    }
   ],
   "source": [
    "p1.make_Call()"
   ]
  },
  {
   "cell_type": "code",
   "execution_count": 4,
   "id": "c467aea2",
   "metadata": {},
   "outputs": [
    {
     "name": "stdout",
     "output_type": "stream",
     "text": [
      "I am playing a game\n"
     ]
    }
   ],
   "source": [
    "p1.play_game()"
   ]
  },
  {
   "cell_type": "code",
   "execution_count": 5,
   "id": "24ff5515",
   "metadata": {},
   "outputs": [],
   "source": [
    "class Phone:\n",
    "    def set_color(self,color):\n",
    "        self.color=color\n",
    "    def set_cost(self,cost):\n",
    "        self.cost=cost\n",
    "    def show_color(self):\n",
    "        return self.color\n",
    "    def show_cost(self):\n",
    "        return self.cost"
   ]
  },
  {
   "cell_type": "code",
   "execution_count": 6,
   "id": "45af808f",
   "metadata": {},
   "outputs": [],
   "source": [
    "p2= Phone()"
   ]
  },
  {
   "cell_type": "code",
   "execution_count": 7,
   "id": "09894de1",
   "metadata": {},
   "outputs": [],
   "source": [
    "p2.set_color(\"Blue\")"
   ]
  },
  {
   "cell_type": "code",
   "execution_count": 8,
   "id": "183585b9",
   "metadata": {},
   "outputs": [],
   "source": [
    "p2.set_cost(50000)"
   ]
  },
  {
   "cell_type": "code",
   "execution_count": 9,
   "id": "d8a99347",
   "metadata": {},
   "outputs": [
    {
     "data": {
      "text/plain": [
       "'Blue'"
      ]
     },
     "execution_count": 9,
     "metadata": {},
     "output_type": "execute_result"
    }
   ],
   "source": [
    "p2.show_color()"
   ]
  },
  {
   "cell_type": "code",
   "execution_count": 10,
   "id": "f9fb8df7",
   "metadata": {},
   "outputs": [
    {
     "data": {
      "text/plain": [
       "50000"
      ]
     },
     "execution_count": 10,
     "metadata": {},
     "output_type": "execute_result"
    }
   ],
   "source": [
    "p2.show_cost()"
   ]
  }
 ],
 "metadata": {
  "kernelspec": {
   "display_name": "Python 3 (ipykernel)",
   "language": "python",
   "name": "python3"
  },
  "language_info": {
   "codemirror_mode": {
    "name": "ipython",
    "version": 3
   },
   "file_extension": ".py",
   "mimetype": "text/x-python",
   "name": "python",
   "nbconvert_exporter": "python",
   "pygments_lexer": "ipython3",
   "version": "3.9.13"
  }
 },
 "nbformat": 4,
 "nbformat_minor": 5
}
