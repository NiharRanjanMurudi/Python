{
 "cells": [
  {
   "cell_type": "code",
   "execution_count": 1,
   "id": "bc2541e0",
   "metadata": {},
   "outputs": [
    {
     "data": {
      "text/plain": [
       "'HELLO WORLD'"
      ]
     },
     "execution_count": 1,
     "metadata": {},
     "output_type": "execute_result"
    }
   ],
   "source": [
    "a=\"HELLO WORLD\"\n",
    "a"
   ]
  },
  {
   "cell_type": "code",
   "execution_count": 2,
   "id": "d32ae6c6",
   "metadata": {},
   "outputs": [],
   "source": [
    "b=\"NIHAR\""
   ]
  },
  {
   "cell_type": "code",
   "execution_count": 3,
   "id": "ea118f35",
   "metadata": {},
   "outputs": [
    {
     "data": {
      "text/plain": [
       "'N'"
      ]
     },
     "execution_count": 3,
     "metadata": {},
     "output_type": "execute_result"
    }
   ],
   "source": [
    "b[0] #first character"
   ]
  },
  {
   "cell_type": "code",
   "execution_count": 4,
   "id": "0e9f4732",
   "metadata": {},
   "outputs": [],
   "source": [
    "b=\"NIHAR\""
   ]
  },
  {
   "cell_type": "code",
   "execution_count": 5,
   "id": "52a01df9",
   "metadata": {},
   "outputs": [
    {
     "data": {
      "text/plain": [
       "'R'"
      ]
     },
     "execution_count": 5,
     "metadata": {},
     "output_type": "execute_result"
    }
   ],
   "source": [
    "b[-1] #last character"
   ]
  },
  {
   "cell_type": "code",
   "execution_count": 6,
   "id": "88fd8c49",
   "metadata": {},
   "outputs": [],
   "source": [
    "x=\"This is My Name\""
   ]
  },
  {
   "cell_type": "code",
   "execution_count": 7,
   "id": "c2f1212b",
   "metadata": {},
   "outputs": [
    {
     "data": {
      "text/plain": [
       "'is My'"
      ]
     },
     "execution_count": 7,
     "metadata": {},
     "output_type": "execute_result"
    }
   ],
   "source": [
    "x[5:10]"
   ]
  },
  {
   "cell_type": "code",
   "execution_count": 8,
   "id": "0f9aeedc",
   "metadata": {},
   "outputs": [
    {
     "data": {
      "text/plain": [
       "5"
      ]
     },
     "execution_count": 8,
     "metadata": {},
     "output_type": "execute_result"
    }
   ],
   "source": [
    "len(\"hello\") #Finding length of String"
   ]
  },
  {
   "cell_type": "code",
   "execution_count": 9,
   "id": "f728bac9",
   "metadata": {},
   "outputs": [
    {
     "data": {
      "text/plain": [
       "'nihar'"
      ]
     },
     "execution_count": 9,
     "metadata": {},
     "output_type": "execute_result"
    }
   ],
   "source": [
    "\"NIHar\".lower() #Converting String to Lower case"
   ]
  },
  {
   "cell_type": "code",
   "execution_count": 10,
   "id": "659224cb",
   "metadata": {},
   "outputs": [
    {
     "data": {
      "text/plain": [
       "'NIHAR'"
      ]
     },
     "execution_count": 10,
     "metadata": {},
     "output_type": "execute_result"
    }
   ],
   "source": [
    "\"niHAR\".upper() #Converting String to Upper case"
   ]
  },
  {
   "cell_type": "code",
   "execution_count": 11,
   "id": "d2e25b12",
   "metadata": {},
   "outputs": [
    {
     "data": {
      "text/plain": [
       "'My nime is Nihir'"
      ]
     },
     "execution_count": 11,
     "metadata": {},
     "output_type": "execute_result"
    }
   ],
   "source": [
    "\"My name is Nihar\".replace('a','i') #Replacing a substring"
   ]
  },
  {
   "cell_type": "code",
   "execution_count": 12,
   "id": "c177891a",
   "metadata": {},
   "outputs": [
    {
     "data": {
      "text/plain": [
       "2"
      ]
     },
     "execution_count": 12,
     "metadata": {},
     "output_type": "execute_result"
    }
   ],
   "source": [
    "x=\"My My name is Nihar\" #Number of occurrences of substring\n",
    "x.count(\"My\")"
   ]
  },
  {
   "cell_type": "code",
   "execution_count": 13,
   "id": "83dac8cd",
   "metadata": {},
   "outputs": [],
   "source": [
    "x=\"Hello World is Awesome\" #Finding the index of substing"
   ]
  },
  {
   "cell_type": "code",
   "execution_count": 14,
   "id": "99dfcc04",
   "metadata": {},
   "outputs": [
    {
     "data": {
      "text/plain": [
       "12"
      ]
     },
     "execution_count": 14,
     "metadata": {},
     "output_type": "execute_result"
    }
   ],
   "source": [
    "x.find('i')"
   ]
  },
  {
   "cell_type": "code",
   "execution_count": 15,
   "id": "a61077a3",
   "metadata": {},
   "outputs": [],
   "source": [
    "t=\"Hello World my name is nihar\" #Splitting a string"
   ]
  },
  {
   "cell_type": "code",
   "execution_count": 16,
   "id": "fdc56471",
   "metadata": {},
   "outputs": [
    {
     "data": {
      "text/plain": [
       "['Hello World my name ', 's n', 'har']"
      ]
     },
     "execution_count": 16,
     "metadata": {},
     "output_type": "execute_result"
    }
   ],
   "source": [
    "t.split('i')"
   ]
  }
 ],
 "metadata": {
  "kernelspec": {
   "display_name": "Python 3 (ipykernel)",
   "language": "python",
   "name": "python3"
  },
  "language_info": {
   "codemirror_mode": {
    "name": "ipython",
    "version": 3
   },
   "file_extension": ".py",
   "mimetype": "text/x-python",
   "name": "python",
   "nbconvert_exporter": "python",
   "pygments_lexer": "ipython3",
   "version": "3.9.13"
  }
 },
 "nbformat": 4,
 "nbformat_minor": 5
}
